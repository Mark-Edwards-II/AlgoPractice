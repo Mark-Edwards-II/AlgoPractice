{
 "cells": [
  {
   "cell_type": "code",
   "execution_count": 1,
   "metadata": {},
   "outputs": [],
   "source": [
    "def cube(height,width,depth):\n",
    "    walls = height * width * 4\n",
    "    base_and_roof = width * depth * 2\n",
    "    return walls + base_and_roof"
   ]
  },
  {
   "cell_type": "code",
   "execution_count": 27,
   "metadata": {},
   "outputs": [
    {
     "name": "stdout",
     "output_type": "stream",
     "text": [
      "60\n"
     ]
    }
   ],
   "source": [
    "total_surface_area = 0\n",
    "arr = [\n",
    "    [1, 3, 4],\n",
    "    [2, 2, 3],\n",
    "    [1, 2, 4,]\n",
    "]\n",
    "\n",
    "for i in range(len(arr)):\n",
    "    for j in range(len(arr[i])):\n",
    "        if(i < len(arr)-1):\n",
    "            if(arr[i][j] <= arr[i+1][j]):\n",
    "                total_surface_area = total_surface_area - arr[i][j] * 2\n",
    "            if(arr[i][j] > arr[i+1][j]):\n",
    "                total_surface_area = total_surface_area - arr[i+1][j] * 2\n",
    "        if(j < len(arr[i])-1):\n",
    "            if(arr[i][j] <= arr[i][j+1]):\n",
    "                total_surface_area = total_surface_area - arr[i][j] * 2\n",
    "            if(arr[i][j] > arr[i][j+1]):\n",
    "                total_surface_area = total_surface_area - arr[i][j+1] * 2\n",
    "        total_surface_area = total_surface_area + cube(arr[i][j],1,1)\n",
    "print(total_surface_area)"
   ]
  },
  {
   "cell_type": "code",
   "execution_count": null,
   "metadata": {},
   "outputs": [],
   "source": []
  }
 ],
 "metadata": {
  "kernelspec": {
   "display_name": "Python 3",
   "language": "python",
   "name": "python3"
  },
  "language_info": {
   "codemirror_mode": {
    "name": "ipython",
    "version": 3
   },
   "file_extension": ".py",
   "mimetype": "text/x-python",
   "name": "python",
   "nbconvert_exporter": "python",
   "pygments_lexer": "ipython3",
   "version": "3.8.5"
  }
 },
 "nbformat": 4,
 "nbformat_minor": 4
}
